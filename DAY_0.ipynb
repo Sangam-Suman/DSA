{
  "nbformat": 4,
  "nbformat_minor": 0,
  "metadata": {
    "colab": {
      "provenance": [],
      "collapsed_sections": [],
      "toc_visible": true,
      "authorship_tag": "ABX9TyM9+3c3cT7RMXcFwS+dA+zc",
      "include_colab_link": true
    },
    "kernelspec": {
      "name": "python3",
      "display_name": "Python 3"
    },
    "language_info": {
      "name": "python"
    }
  },
  "cells": [
    {
      "cell_type": "markdown",
      "metadata": {
        "id": "view-in-github",
        "colab_type": "text"
      },
      "source": [
        "<a href=\"https://colab.research.google.com/github/Sangam-Suman/DSA/blob/main/DAY_0.ipynb\" target=\"_parent\"><img src=\"https://colab.research.google.com/assets/colab-badge.svg\" alt=\"Open In Colab\"/></a>"
      ]
    },
    {
      "cell_type": "code",
      "execution_count": null,
      "metadata": {
        "id": "Yps-ZzNnYQPi"
      },
      "outputs": [],
      "source": [
        "#Calculating GCD\n",
        "#for no common GCD is 1.\n",
        "# GCd of two no is always going to be smaller than two numbers.\n",
        "#gcd(m,n) <=min(m,n)\n",
        "\n",
        "# Look for list of all common factors from 1 to min(m,n)\n",
        "# Return the last common Factor."
      ]
    },
    {
      "cell_type": "markdown",
      "source": [],
      "metadata": {
        "id": "a1y8QNz9eWhl"
      }
    },
    {
      "cell_type": "code",
      "source": [
        "def gcd(m,n):\n",
        "  cf =[] #List of common factors\n",
        "  for i in range (1,min(m,n)+1):\n",
        "    if(m%i)==0 and (n%i) ==0:\n",
        "      cf.append(i)\n",
        "  return(cf[-1])  # returning the largest value which is saved at last i.e., -1\n",
        "  "
      ],
      "metadata": {
        "id": "_h4cBH8Yd3tW"
      },
      "execution_count": null,
      "outputs": []
    }
  ]
}