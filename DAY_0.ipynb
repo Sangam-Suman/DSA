{
  "nbformat": 4,
  "nbformat_minor": 0,
  "metadata": {
    "colab": {
      "provenance": [],
      "collapsed_sections": [],
      "toc_visible": true,
      "authorship_tag": "ABX9TyMuuMQU9OV2mhqQ9idcm+ZJ",
      "include_colab_link": true
    },
    "kernelspec": {
      "name": "python3",
      "display_name": "Python 3"
    },
    "language_info": {
      "name": "python"
    }
  },
  "cells": [
    {
      "cell_type": "markdown",
      "metadata": {
        "id": "view-in-github",
        "colab_type": "text"
      },
      "source": [
        "<a href=\"https://colab.research.google.com/github/Sangam-Suman/DSA/blob/main/DAY_0.ipynb\" target=\"_parent\"><img src=\"https://colab.research.google.com/assets/colab-badge.svg\" alt=\"Open In Colab\"/></a>"
      ]
    },
    {
      "cell_type": "code",
      "execution_count": null,
      "metadata": {
        "id": "Yps-ZzNnYQPi"
      },
      "outputs": [],
      "source": [
        "#Calculating GCD\n",
        "#for no common GCD is 1.\n",
        "# GCd of two no is always going to be smaller than two numbers.\n",
        "#gcd(m,n) <=min(m,n)\n",
        "\n",
        "# Look for list of all common factors from 1 to min(m,n)\n",
        "# Return the last common Factor."
      ]
    },
    {
      "cell_type": "markdown",
      "source": [],
      "metadata": {
        "id": "a1y8QNz9eWhl"
      }
    },
    {
      "cell_type": "code",
      "source": [
        "def gcd(m,n):\n",
        "  cf =[] #List of common factors\n",
        "  for i in range (1,min(m,n)+1):\n",
        "    if(m%i)==0 and (n%i) ==0:\n",
        "      cf.append(i)\n",
        "  return(cf[-1])  # returning the largest value which is saved at last i.e., -1\n",
        "  "
      ],
      "metadata": {
        "id": "_h4cBH8Yd3tW"
      },
      "execution_count": 1,
      "outputs": []
    },
    {
      "cell_type": "markdown",
      "source": [
        "We don't actually need all the common factors we only need the last one.\n",
        "\n",
        "\n",
        "Keep track of the most recent common factor(mrcf).\n",
        "\n",
        "Note that it will automatically save the first no as 1.\n",
        "\n",
        "\n",
        "which is going to be the first factor of any two numbers"
      ],
      "metadata": {
        "id": "py8VWm14gEOu"
      }
    },
    {
      "cell_type": "code",
      "source": [
        "def gcd(m,n):\n",
        "  for i in range(1, min(m,n)+1):\n",
        "    if(m%i)==0 and (n%i)==0:\n",
        "      mrcf= i\n",
        "  return(mrcf)      \n"
      ],
      "metadata": {
        "id": "e2PrW3lLgV9N"
      },
      "execution_count": null,
      "outputs": []
    },
    {
      "cell_type": "markdown",
      "source": [
        "now how much is the efficiency of these codes??\n",
        "\n"
      ],
      "metadata": {
        "id": "p8g0dP9yg-Sw"
      }
    },
    {
      "cell_type": "markdown",
      "source": [
        "CHECKING WEATHER A NUMBER IS PRIME"
      ],
      "metadata": {
        "id": "rjOAaPWyh9MO"
      }
    },
    {
      "cell_type": "code",
      "source": [
        "def factors(n):\n",
        "  fl = [] #factor list\n",
        "  for i in range(1 ,n+1):\n",
        "    if(n%i)==0:\n",
        "      fl.append(i)\n",
        "  return (fl)\n",
        "\n",
        "\n",
        "def prime(n):\n",
        "  (result ,i) =(True,2)\n",
        "  while (result and (i<n)):\n",
        "    if (n%i)==0:\n",
        "      result = False\n",
        "    i = i+1\n",
        "  return(result) \n"
      ],
      "metadata": {
        "id": "YkkCS0IQhJGp"
      },
      "execution_count": null,
      "outputs": []
    },
    {
      "cell_type": "markdown",
      "source": [
        "in the above code:\n",
        "\n",
        "\n",
        "understand that ...A prime no has only two factors 1 and the no itself(n)\n",
        "also......> 1 is not a prime ..\n",
        "\n",
        "\n",
        "here in this code ccompute the list of factors of n.\n"
      ],
      "metadata": {
        "id": "2yL48bWOiZ1f"
      }
    },
    {
      "cell_type": "code",
      "source": [
        "import math\n",
        "def prime(n):\n",
        "  (result,i) = (True, 2)\n",
        "  while (result and ( i <math.sqrt(n))):\n",
        "    if (n%i) ==0:\n",
        "      result  = False\n",
        "    i = i+1\n",
        "  return(result)"
      ],
      "metadata": {
        "id": "xIdTCLYPkpIN"
      },
      "execution_count": null,
      "outputs": []
    },
    {
      "cell_type": "markdown",
      "source": [
        "in the above code:\n",
        "\n",
        "  Factors occur in pairs.\n",
        "\n",
        "  Sufficient to check factors upto (n)^1/2\n",
        "\n",
        "  if n is prime, scan 2.....(n)^1/2 instead of 2.....n-1"
      ],
      "metadata": {
        "id": "UrCJMMOJmMqQ"
      }
    },
    {
      "cell_type": "code",
      "source": [
        "# Properties\n",
        "# There are infitely many primes\n",
        "\n",
        "# How are they distributed"
      ],
      "metadata": {
        "id": "NsZpnhv3molG"
      },
      "execution_count": null,
      "outputs": []
    },
    {
      "cell_type": "code",
      "source": [
        "#recursive code\n",
        "def gcd(m,n):\n",
        "  (a,b) = (max(m,n) , min(m,n))\n",
        "  if a%b ==0:\n",
        "    return(b)\n",
        "  else\n",
        "    return(gcd(b,a-b))\n",
        "\n",
        "    "
      ],
      "metadata": {
        "id": "oh8FRG-Ppb8J"
      },
      "execution_count": null,
      "outputs": []
    },
    {
      "cell_type": "markdown",
      "source": [
        "the above coe hasn't solved the problem of efficiency ...\n",
        "\n",
        "\n",
        "this is the worst one because it is going to take the time of Max(a,b)\n",
        "\n"
      ],
      "metadata": {
        "id": "zBCbjTTEp0iM"
      }
    },
    {
      "cell_type": "markdown",
      "source": [
        "So we need Euclid'd algorithm to solve the problem..\n"
      ],
      "metadata": {
        "id": "MdrTrd9Jp0e1"
      }
    },
    {
      "cell_type": "code",
      "source": [],
      "metadata": {
        "id": "RzwGQv3hqaGF"
      },
      "execution_count": null,
      "outputs": []
    }
  ]
}